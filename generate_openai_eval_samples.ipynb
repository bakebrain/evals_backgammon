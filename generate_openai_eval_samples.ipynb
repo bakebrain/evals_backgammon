{
 "cells": [
  {
   "cell_type": "code",
   "execution_count": 110,
   "id": "3a2aff24",
   "metadata": {},
   "outputs": [
    {
     "name": "stdout",
     "output_type": "stream",
     "text": [
      "The autoreload extension is already loaded. To reload it, use:\n",
      "  %reload_ext autoreload\n"
     ]
    }
   ],
   "source": [
    "%load_ext autoreload\n",
    "%autoreload 2"
   ]
  },
  {
   "cell_type": "code",
   "execution_count": 111,
   "id": "98132c9a",
   "metadata": {},
   "outputs": [],
   "source": [
    "import json\n",
    "import math\n",
    "import os\n",
    "import pathlib\n",
    "import random\n",
    "import time\n",
    "import yaml\n",
    "\n",
    "from copy import deepcopy\n",
    "from itertools import pairwise\n",
    "from typing import List, NamedTuple, Optional, Tuple\n",
    "\n",
    "import backgammon\n",
    "import numpy as np\n",
    "import openai\n",
    "import pandas as pd\n",
    "from backgammon.backgammon import STARTING_MATCH_ID, STARTING_POSITION_ID, Move, Player\n"
   ]
  },
  {
   "cell_type": "code",
   "execution_count": 112,
   "id": "8a9f6eb9",
   "metadata": {},
   "outputs": [],
   "source": [
    "eval_path = pathlib.Path(\"../evals/evals/registry/evals/\")\n",
    "eval_data_path = pathlib.Path(\"../evals/evals/registry/data/\")\n"
   ]
  },
  {
   "cell_type": "code",
   "execution_count": 113,
   "id": "68bc0d6e",
   "metadata": {},
   "outputs": [
    {
     "data": {
      "text/plain": [
       "('cAgAAAAAAAAA', '4HPwATDgc/ABMA')"
      ]
     },
     "execution_count": 113,
     "metadata": {},
     "output_type": "execute_result"
    }
   ],
   "source": [
    "STARTING_MATCH_ID, STARTING_POSITION_ID\n"
   ]
  },
  {
   "cell_type": "code",
   "execution_count": 114,
   "id": "50262b0e",
   "metadata": {},
   "outputs": [],
   "source": [
    "openai.api_key = os.environ.get(\"OPENAI_API_KEY\")"
   ]
  },
  {
   "cell_type": "code",
   "execution_count": 115,
   "id": "cdde0fb8",
   "metadata": {},
   "outputs": [],
   "source": [
    "def roll_and_play(b) -> backgammon.Backgammon:\n",
    "    \"\"\"Generates \"naive\" backgammon moves for random dice roll and plays them.\n",
    "\n",
    "    Args:\n",
    "        b (backgammon.Backgammon): a backgammon instance\n",
    "\n",
    "    Returns:\n",
    "        backgammon.Backgammon: board after moves habe been applied\n",
    "    \"\"\"\n",
    "\n",
    "    b.roll()\n",
    "    plays = [play for play in b.generate_plays()]\n",
    "\n",
    "    # cannot move\n",
    "    if not plays:\n",
    "        return b.end_turn()\n",
    "\n",
    "    # naive way of \"evaluating\" a position with as few slots as possible\n",
    "    # to have fewer legal moves availabe when creating the eval data\n",
    "    idx_to_slots = [\n",
    "        (idx, (np.array(p.position.board_points) == 1).sum())\n",
    "        for idx, p in enumerate(plays)\n",
    "    ]\n",
    "    idx_to_slots.sort(key=lambda x: x[1])\n",
    "    chosen_play = plays[idx_to_slots[0][0]]\n",
    "\n",
    "    moves = tuple(((x.source, x.destination) for x in chosen_play.moves))\n",
    "    b.play(moves)\n",
    "\n",
    "    return b\n"
   ]
  },
  {
   "cell_type": "code",
   "execution_count": 116,
   "id": "7296162f",
   "metadata": {},
   "outputs": [],
   "source": [
    "MAX_SAMPLES = 10_000\n",
    "\n",
    "b = backgammon.Backgammon()\n",
    "\n",
    "eval_data = []\n",
    "for _ in range(MAX_SAMPLES):\n",
    "    b = backgammon.Backgammon()  # starting pos\n",
    "\n",
    "    rounds = random.choice([4, 6])\n",
    "    for x in range(rounds):\n",
    "        b = roll_and_play(b)\n",
    "\n",
    "    # roll once more to get the final board state\n",
    "    b.roll()\n",
    "\n",
    "    position_id, match_id = b.encode().split(\":\")\n",
    "\n",
    "    # moves which would hit the opponent (again)\n",
    "    hit_moves = [\n",
    "        # moves: namedtuples in df does not play nice when storing\n",
    "        [tuple(m) for m in play.moves]\n",
    "        for play in b.generate_plays()\n",
    "        if play.position.opponent_bar > b.position.opponent_bar\n",
    "    ]\n",
    "\n",
    "    eval_data.append(\n",
    "        {\n",
    "            \"match_id\": match_id,\n",
    "            \"position_id\": position_id,\n",
    "            \"encoded\":  b.encode(),\n",
    "            \"dice\": b.match.dice,\n",
    "            \"rounds\": rounds,\n",
    "            \"hit_moves\": hit_moves,\n",
    "            \"can_hit\": any(hit_moves),\n",
    "            \"player_bar\": b.position.player_bar,\n",
    "            \"opponent_bar\": b.position.opponent_bar,\n",
    "        }\n",
    "    )\n",
    "\n",
    "df = pd.DataFrame(eval_data)"
   ]
  },
  {
   "cell_type": "code",
   "execution_count": 119,
   "id": "9f7bebba",
   "metadata": {},
   "outputs": [
    {
     "name": "stdout",
     "output_type": "stream",
     "text": [
      "(9885, 9)\n"
     ]
    }
   ],
   "source": [
    "df.drop_duplicates(subset=[\"encoded\"], inplace=True)\n",
    "print(df.shape)"
   ]
  },
  {
   "cell_type": "code",
   "execution_count": 120,
   "id": "eebe1266",
   "metadata": {},
   "outputs": [],
   "source": [
    "def get_illegal_blocked_move_for_roll(b, roll) -> List[Tuple[Move, ...]]:\n",
    "    \"\"\"Returns a list of Move tuples given an individual dice roll- all those moves are not allowed\n",
    "    since they would move to a point with 2+ checkers of the opponent\n",
    "\n",
    "    Args:\n",
    "        b (backgammon.Backgammon): the board\n",
    "        roll (int): dice roll\n",
    "\n",
    "    Returns:\n",
    "        List[Tuple[Move, ...]]: List if Move tuples, e.g.\n",
    "            [Move(pips=5, source=23, destination=18), ... ]\n",
    "    \"\"\"\n",
    "\n",
    "    df = pd.DataFrame(b.position.board_points, columns=[\"board_points\"])\n",
    "    df[\"board\"] = list(range(0, 24))\n",
    "    # more intuitive\n",
    "    df = df.reindex(index=df.index[::-1])\n",
    "    df[\"shifted_board_points\"] = df[\"board_points\"].shift(roll)\n",
    "    df[\"illegal\"] = (\n",
    "        (df.board_points * df.shifted_board_points < 0)\n",
    "        & (df.shifted_board_points > 0)\n",
    "        & (df.board_points < -1)\n",
    "    )\n",
    "    df[\"source\"] = df.board + roll\n",
    "    df[\"destination\"] = df.board\n",
    "    df[\"pips\"] = roll\n",
    "\n",
    "    return list(\n",
    "        df[df.illegal == True][[\"pips\", \"source\", \"destination\"]].itertuples(\n",
    "            name=\"Move\", index=False\n",
    "        )\n",
    "    )"
   ]
  },
  {
   "cell_type": "code",
   "execution_count": 121,
   "id": "97286430",
   "metadata": {},
   "outputs": [],
   "source": [
    "def get_illegal_moves(row) -> Tuple[Move, ...]:\n",
    "    \"\"\"Constructd a \"valid\" illegal move.\n",
    "\n",
    "    Ignores moves that pass through, e.g. 7/6/5 (not make it too complicated)\n",
    "\n",
    "    Args:\n",
    "        row (row): Pandas Series\n",
    "\n",
    "    Returns:\n",
    "        Tuple[Move, ...]: The illegal Move\n",
    "    \"\"\"\n",
    "\n",
    "    b = backgammon.Backgammon(position_id=row.position_id, match_id=row.match_id)\n",
    "    all_plays = [play for play in b.generate_plays()]\n",
    "\n",
    "    # ignore moves where we move the same checker twice - regardless if the slot is empty or not\n",
    "    def checker_is_moving_through(moves):\n",
    "        return [p[0].destination == p[1].source for p in pairwise(moves)]\n",
    "\n",
    "    plays = [\n",
    "        play for play in all_plays if not any(checker_is_moving_through(play.moves))\n",
    "    ]\n",
    "\n",
    "    illegal_moves = {\n",
    "        roll: get_illegal_blocked_move_for_roll(b, roll) for roll in b.match.dice\n",
    "    }\n",
    "\n",
    "    # everygthing is valid\n",
    "    if not any(illegal_moves.values()) or not (plays):\n",
    "        return []\n",
    "\n",
    "    # choose randon play to manipulate\n",
    "    random_play = random.choice(plays)\n",
    "\n",
    "    new_illegal_move = list(random_play.moves)\n",
    "    for pos, move in enumerate(random_play.moves):\n",
    "        # do we have an invalid blocked move for this roll?\n",
    "        if not illegal_moves[move.pips]:\n",
    "            # not - we keep the original\n",
    "            continue\n",
    "        else:\n",
    "            # chose a random illegal move for the roll\n",
    "            new_illegal_move[pos] = random.choice(illegal_moves[move.pips])\n",
    "            break\n",
    "\n",
    "    return [tuple(x) for x in new_illegal_move]\n",
    "\n",
    "\n",
    "df[\"illegal_move\"] = df.apply(lambda row: get_illegal_moves(row), axis=1)\n",
    "df[\"has_illegal_move\"] = df.illegal_move.astype(bool)"
   ]
  },
  {
   "cell_type": "code",
   "execution_count": 122,
   "id": "0dcef42d",
   "metadata": {},
   "outputs": [
    {
     "data": {
      "text/html": [
       "<div>\n",
       "<style scoped>\n",
       "    .dataframe tbody tr th:only-of-type {\n",
       "        vertical-align: middle;\n",
       "    }\n",
       "\n",
       "    .dataframe tbody tr th {\n",
       "        vertical-align: top;\n",
       "    }\n",
       "\n",
       "    .dataframe thead th {\n",
       "        text-align: right;\n",
       "    }\n",
       "</style>\n",
       "<table border=\"1\" class=\"dataframe\">\n",
       "  <thead>\n",
       "    <tr style=\"text-align: right;\">\n",
       "      <th></th>\n",
       "      <th>match_id</th>\n",
       "      <th>position_id</th>\n",
       "      <th>encoded</th>\n",
       "      <th>dice</th>\n",
       "      <th>rounds</th>\n",
       "      <th>hit_moves</th>\n",
       "      <th>can_hit</th>\n",
       "      <th>player_bar</th>\n",
       "      <th>opponent_bar</th>\n",
       "      <th>illegal_move</th>\n",
       "      <th>has_illegal_move</th>\n",
       "    </tr>\n",
       "  </thead>\n",
       "  <tbody>\n",
       "    <tr>\n",
       "      <th>9454</th>\n",
       "      <td>cIgSAAAAAAAA</td>\n",
       "      <td>cOeDATCY88QBMA</td>\n",
       "      <td>cOeDATCY88QBMA:cIgSAAAAAAAA</td>\n",
       "      <td>(5, 4)</td>\n",
       "      <td>6</td>\n",
       "      <td>[]</td>\n",
       "      <td>False</td>\n",
       "      <td>0</td>\n",
       "      <td>0</td>\n",
       "      <td>[(5, 23, 18), (4, 9, 5)]</td>\n",
       "      <td>True</td>\n",
       "    </tr>\n",
       "    <tr>\n",
       "      <th>1209</th>\n",
       "      <td>cAgGAAAAAAAA</td>\n",
       "      <td>sGfDATA2zuABMA</td>\n",
       "      <td>sGfDATA2zuABMA:cAgGAAAAAAAA</td>\n",
       "      <td>(4, 1)</td>\n",
       "      <td>6</td>\n",
       "      <td>[]</td>\n",
       "      <td>False</td>\n",
       "      <td>0</td>\n",
       "      <td>0</td>\n",
       "      <td>[(4, 23, 19), (1, 5, 4)]</td>\n",
       "      <td>True</td>\n",
       "    </tr>\n",
       "    <tr>\n",
       "      <th>6250</th>\n",
       "      <td>cIgFAAAAAAAA</td>\n",
       "      <td>4OeGATCY5+ABMA</td>\n",
       "      <td>4OeGATCY5+ABMA:cIgFAAAAAAAA</td>\n",
       "      <td>(3, 1)</td>\n",
       "      <td>4</td>\n",
       "      <td>[]</td>\n",
       "      <td>False</td>\n",
       "      <td>0</td>\n",
       "      <td>0</td>\n",
       "      <td>[(3, 3, 0), (1, 3, 2)]</td>\n",
       "      <td>True</td>\n",
       "    </tr>\n",
       "    <tr>\n",
       "      <th>663</th>\n",
       "      <td>cIgFAAAAAAAA</td>\n",
       "      <td>uE3wATCwn8EBMA</td>\n",
       "      <td>uE3wATCwn8EBMA:cIgFAAAAAAAA</td>\n",
       "      <td>(3, 1)</td>\n",
       "      <td>6</td>\n",
       "      <td>[]</td>\n",
       "      <td>False</td>\n",
       "      <td>0</td>\n",
       "      <td>0</td>\n",
       "      <td>[(3, 23, 20), (1, 7, 6)]</td>\n",
       "      <td>True</td>\n",
       "    </tr>\n",
       "    <tr>\n",
       "      <th>3166</th>\n",
       "      <td>cIgGAAAAAAAA</td>\n",
       "      <td>yOcPADDgz8EBMA</td>\n",
       "      <td>yOcPADDgz8EBMA:cIgGAAAAAAAA</td>\n",
       "      <td>(5, 1)</td>\n",
       "      <td>4</td>\n",
       "      <td>[]</td>\n",
       "      <td>False</td>\n",
       "      <td>0</td>\n",
       "      <td>0</td>\n",
       "      <td>[(5, 23, 18), (1, 7, 6)]</td>\n",
       "      <td>True</td>\n",
       "    </tr>\n",
       "  </tbody>\n",
       "</table>\n",
       "</div>"
      ],
      "text/plain": [
       "          match_id     position_id                      encoded    dice  \\\n",
       "9454  cIgSAAAAAAAA  cOeDATCY88QBMA  cOeDATCY88QBMA:cIgSAAAAAAAA  (5, 4)   \n",
       "1209  cAgGAAAAAAAA  sGfDATA2zuABMA  sGfDATA2zuABMA:cAgGAAAAAAAA  (4, 1)   \n",
       "6250  cIgFAAAAAAAA  4OeGATCY5+ABMA  4OeGATCY5+ABMA:cIgFAAAAAAAA  (3, 1)   \n",
       "663   cIgFAAAAAAAA  uE3wATCwn8EBMA  uE3wATCwn8EBMA:cIgFAAAAAAAA  (3, 1)   \n",
       "3166  cIgGAAAAAAAA  yOcPADDgz8EBMA  yOcPADDgz8EBMA:cIgGAAAAAAAA  (5, 1)   \n",
       "\n",
       "      rounds hit_moves  can_hit  player_bar  opponent_bar  \\\n",
       "9454       6        []    False           0             0   \n",
       "1209       6        []    False           0             0   \n",
       "6250       4        []    False           0             0   \n",
       "663        6        []    False           0             0   \n",
       "3166       4        []    False           0             0   \n",
       "\n",
       "                  illegal_move  has_illegal_move  \n",
       "9454  [(5, 23, 18), (4, 9, 5)]              True  \n",
       "1209  [(4, 23, 19), (1, 5, 4)]              True  \n",
       "6250    [(3, 3, 0), (1, 3, 2)]              True  \n",
       "663   [(3, 23, 20), (1, 7, 6)]              True  \n",
       "3166  [(5, 23, 18), (1, 7, 6)]              True  "
      ]
     },
     "execution_count": 122,
     "metadata": {},
     "output_type": "execute_result"
    }
   ],
   "source": [
    "df.sample(n=5)"
   ]
  },
  {
   "attachments": {},
   "cell_type": "markdown",
   "id": "cd40a1af",
   "metadata": {},
   "source": [
    "## Sample Datasets"
   ]
  },
  {
   "cell_type": "code",
   "execution_count": 123,
   "id": "3e29e247",
   "metadata": {},
   "outputs": [
    {
     "data": {
      "text/plain": [
       "(9885, 11)"
      ]
     },
     "execution_count": 123,
     "metadata": {},
     "output_type": "execute_result"
    }
   ],
   "source": [
    "df.shape\n"
   ]
  },
  {
   "cell_type": "code",
   "execution_count": 124,
   "id": "f288f5c2",
   "metadata": {},
   "outputs": [],
   "source": [
    "n = 300\n",
    "\n",
    "df[\"is_double\"] = df.dice.apply(lambda x: x[0] == x[1])\n",
    "can_hit_sample_df = df.groupby(\"can_hit\").sample(n=n, random_state=1)\n",
    "\n",
    "# avoid dupes and also coming from the bar to make it easier\n",
    "illegal_n = 500\n",
    "illegal_sample_df = (\n",
    "    df[(~df.index.isin(can_hit_sample_df.index)) & (df.player_bar == 0)]\n",
    "    .groupby(\"has_illegal_move\")\n",
    "    .sample(n=illegal_n, random_state=1)\n",
    ")\n",
    "\n",
    "# shuffle - not sure when running e.g. with --max_samples: are individual items randomly chosen or the first x only\n",
    "can_hit_sample_df = can_hit_sample_df.sample(frac=1, random_state=1)\n",
    "illegal_sample_df = illegal_sample_df.sample(frac=1, random_state=1)"
   ]
  },
  {
   "cell_type": "code",
   "execution_count": 125,
   "id": "2e8cbfb8",
   "metadata": {},
   "outputs": [],
   "source": [
    "# store\n",
    "df.to_pickle(\"samples_df.p\")\n",
    "can_hit_sample_df.to_pickle(\"can_hit_sample_df.p\")\n",
    "illegal_sample_df.to_pickle(\"illegal_sample_df.p\")"
   ]
  },
  {
   "cell_type": "code",
   "execution_count": 174,
   "id": "c318ef67",
   "metadata": {},
   "outputs": [],
   "source": [
    "# read back\n",
    "df = pd.read_pickle(\"samples_df.p\")\n",
    "can_hit_sample_df = pd.read_pickle(\"can_hit_sample_df.p\")\n",
    "illegal_sample_df = pd.read_pickle(\"illegal_sample_df.p\")"
   ]
  },
  {
   "cell_type": "markdown",
   "id": "daac9ba0",
   "metadata": {},
   "source": [
    "### can hit sample"
   ]
  },
  {
   "cell_type": "code",
   "execution_count": 175,
   "id": "0a8de33b",
   "metadata": {},
   "outputs": [
    {
     "name": "stdout",
     "output_type": "stream",
     "text": [
      "                 Position ID: is/gATDgz4MBMA\n",
      "                 Match ID   : cAgVAAAAAAAA\n",
      " +13-14-15-16-17-18------19-20-21-22-23-24-+\n",
      " | X           O    |   | O        O  O  X |\n",
      " | X           O    |   | O              X |\n",
      " |                  |   | O                |\n",
      " |                  |   | O                |\n",
      " |                  |   | O                |\n",
      "v|                  |BAR|                  |\n",
      " |                  |   | 7                |\n",
      " | O           X    |   | X                |\n",
      " | O           X    |   | X                |\n",
      " | O           X    |   | X              O |\n",
      " | O           X    |   | X              O |\n",
      " +12-11-10--9--8--7-------6--5--4--3--2--1-+\n",
      "\n",
      "dice: (2, 5)\n",
      "\n",
      "these plays hit an opponents checker:\n",
      "24/22 13/8\n",
      "24/22 8/3\n"
     ]
    }
   ],
   "source": [
    "# sample a case\n",
    "# points are index based (!) -> +1 to match the board\n",
    "# cIgVAAAAAAAA\n",
    "sample = can_hit_sample_df[can_hit_sample_df.can_hit == True].sample(1, random_state=2)\n",
    "b = backgammon.Backgammon(\n",
    "    position_id=sample.position_id.item(), match_id=sample.match_id.item()\n",
    ")\n",
    "print(b)\n",
    "# which plays hit?\n",
    "print(f\"dice: {sample.dice.item()}\")\n",
    "print()\n",
    "\n",
    "print(\"these plays hit an opponents checker:\")\n",
    "for hit_moves in sample.hit_moves:\n",
    "    for rolls in hit_moves:\n",
    "        s = []\n",
    "        rolls.sort(key=lambda x: x[1], reverse=True)\n",
    "        for roll in rolls:\n",
    "            roll = Move(*roll)\n",
    "            s.append(f\"{roll.source +1}/{roll.destination+1}\")\n",
    "        print(\" \".join(s))"
   ]
  },
  {
   "attachments": {},
   "cell_type": "markdown",
   "id": "ddf802c9",
   "metadata": {},
   "source": [
    "### is illegal play sample"
   ]
  },
  {
   "cell_type": "code",
   "execution_count": 176,
   "id": "ea922530",
   "metadata": {},
   "outputs": [
    {
     "name": "stdout",
     "output_type": "stream",
     "text": [
      "                 Position ID: zD3gATDg58HBAA\n",
      "                 Match ID   : cIgVAAAAAAAA\n",
      " +13-14-15-16-17-18------19-20-21-22-23-24-+\n",
      " | X              X |   | O  O     O       |\n",
      " | X              X |   | O  O     O       |\n",
      " | X                |   | O  O             |\n",
      " |                  |   | O                |\n",
      " |                  |   |                  |\n",
      "v|                  |BAR|                  |\n",
      " |                  |   | 6                |\n",
      " | O           X    |   | X                |\n",
      " | O           X    |   | X                |\n",
      " | O           X    |   | X              O |\n",
      " | O           X    |   | X              O |\n",
      " +12-11-10--9--8--7-------6--5--4--3--2--1-+\n",
      "\n",
      "dice: (3, 5)\n",
      "\n",
      "this ia an illegal play:\n",
      "6/3 6/1\n"
     ]
    }
   ],
   "source": [
    "sample = illegal_sample_df[illegal_sample_df.has_illegal_move == True].sample(\n",
    "    1, random_state=1\n",
    ")\n",
    "b = backgammon.Backgammon(\n",
    "    position_id=sample.position_id.item(), match_id=sample.match_id.item()\n",
    ")\n",
    "print(b)\n",
    "# which plays hit?\n",
    "print(f\"dice: {sample.dice.item()}\")\n",
    "print()\n",
    "print(\"this ia an illegal play:\")\n",
    "\n",
    "s = []\n",
    "for illegal_move in sample.illegal_move:\n",
    "    for roll in illegal_move:\n",
    "        roll = Move(*roll)\n",
    "        s.append(f\"{roll.source +1}/{roll.destination+1}\")\n",
    "    print(\" \".join(s))\n"
   ]
  },
  {
   "cell_type": "code",
   "execution_count": 177,
   "id": "62e34c7a",
   "metadata": {},
   "outputs": [
    {
     "name": "stdout",
     "output_type": "stream",
     "text": [
      "                 Position ID: 4NvBAQPg84UBMA\n",
      "                 Match ID   : cIgNAAAAAAAA\n",
      " +13-14-15-16-17-18------19-20-21-22-23-24-+\n",
      " | X           O  O |   | O              X |\n",
      " | X           O  O |   | O              X |\n",
      " |             O    |   | O                |\n",
      " |                  |   | O                |\n",
      " |                  |   | O                |\n",
      "v|                  |BAR|                  |\n",
      " |             X    |   | X                |\n",
      " |             X    |   | X                |\n",
      " | O           X    |   | X                |\n",
      " | O           X    |   | X  O             |\n",
      " | O        X  X    |   | X  O             |\n",
      " +12-11-10--9--8--7-------6--5--4--3--2--1-+\n",
      "\n",
      "dice: (3, 3)\n",
      "\n",
      "this ia an illegal play:\n",
      "8/5 6/3 6/3 13/10\n"
     ]
    }
   ],
   "source": [
    "# another example - rolling a double:\n",
    "sample = illegal_sample_df[\n",
    "    (illegal_sample_df.has_illegal_move == True) & (illegal_sample_df.is_double == True)\n",
    "].sample(1, random_state=1)\n",
    "b = backgammon.Backgammon(\n",
    "    position_id=sample.position_id.item(), match_id=sample.match_id.item()\n",
    ")\n",
    "print(b)\n",
    "# which plays hit?\n",
    "print(f\"dice: {sample.dice.item()}\")\n",
    "print()\n",
    "print(\"this ia an illegal play:\")\n",
    "\n",
    "s = []\n",
    "for illegal_move in sample.illegal_move:\n",
    "    for roll in illegal_move:\n",
    "        roll = Move(*roll)\n",
    "        s.append(f\"{roll.source +1}/{roll.destination+1}\")\n",
    "    print(\" \".join(s))"
   ]
  },
  {
   "attachments": {},
   "cell_type": "markdown",
   "id": "3d61143c",
   "metadata": {},
   "source": [
    "## Generate promts / eval data"
   ]
  },
  {
   "cell_type": "code",
   "execution_count": 196,
   "id": "2c470984",
   "metadata": {},
   "outputs": [],
   "source": [
    "BOARD_POSITIONS = [x for x in reversed(range(1, 25))]\n",
    "\n",
    "GPT_PLAYER_NAME = \"backgammonGPT\"\n",
    "\n",
    "SYSTEM_CONTENT = (\n",
    "    f\"You are {GPT_PLAYER_NAME} - a backgammon engine. \"\n",
    "    \"Answer the following True/False question with the provided backgammon board state and the provided dice rolls. \"\n",
    "    f\"It is {GPT_PLAYER_NAME}'s turn.\"\n",
    ")\n"
   ]
  },
  {
   "attachments": {},
   "cell_type": "markdown",
   "id": "95fcbab6",
   "metadata": {},
   "source": [
    "### hit or nope?"
   ]
  },
  {
   "cell_type": "code",
   "execution_count": 197,
   "id": "d0fa3a3e",
   "metadata": {},
   "outputs": [],
   "source": [
    "eval_hit_id = \"backgammon-can-hit\"\n",
    "\n",
    "json_data = []\n",
    "for pos, row in can_hit_sample_df.iterrows():\n",
    "    chat_gpt_player = []\n",
    "    opponent_player = []\n",
    "\n",
    "    b = backgammon.Backgammon(position_id=row.position_id, match_id=row.match_id)\n",
    "\n",
    "    for pos, board_points in enumerate(reversed(b.position.board_points)):\n",
    "        if not board_points:\n",
    "            continue\n",
    "\n",
    "        if board_points > 0:\n",
    "            chat_gpt_player.append(\n",
    "                f\"{board_points} checker{'s'[:board_points^1]} on the {BOARD_POSITIONS[pos]} point\"\n",
    "            )\n",
    "        else:\n",
    "            opponent_player.append(\n",
    "                f\"{abs(board_points)} checker{'s'[:abs(board_points)^1]} on the {BOARD_POSITIONS[pos]} point\"\n",
    "            )\n",
    "\n",
    "    chatgpt_setup = \", \".join(chat_gpt_player)\n",
    "    opponent_setup = \", \".join(opponent_player)\n",
    "\n",
    "    board_eval = f\"The backgammon board's position id is {row.position_id} and the match id is {row.match_id}\"\n",
    "    question = (\n",
    "        f\"{GPT_PLAYER_NAME} is rolling a {row.dice[0]} and a {row.dice[1]}. \"\n",
    "        f\"Can {GPT_PLAYER_NAME} hit one of the opponent's checkers?\"\n",
    "    )\n",
    "    true_false_only_reminder = (\n",
    "        \"Answer only with True or False and provide no other information.\"\n",
    "    )\n",
    "\n",
    "    user_content = (\n",
    "        f\"{board_eval}. {GPT_PLAYER_NAME} has {chatgpt_setup}. \"\n",
    "        f\"The opponent has {opponent_setup}. {question} {true_false_only_reminder}\"\n",
    "    )\n",
    "\n",
    "    messages = [\n",
    "        {\"role\": \"system\", \"content\": SYSTEM_CONTENT},\n",
    "        {\"role\": \"user\", \"content\": user_content},\n",
    "    ]\n",
    "\n",
    "    json_data.append({\"input\": messages, \"ideal\": str(row.can_hit)})\n",
    "\n",
    "# write can_hit samples\n",
    "backgammon_folder = eval_data_path / \"backgammon\"\n",
    "backgammon_folder.mkdir(parents=True, exist_ok=True)\n",
    "backgammon_can_hit = backgammon_folder / f\"{eval_hit_id}.jsonl\"\n",
    "\n",
    "with open(backgammon_can_hit, \"w\") as f:\n",
    "    for entry in json_data:\n",
    "        json.dump(entry, f)\n",
    "        f.write(\"\\n\")\n"
   ]
  },
  {
   "attachments": {},
   "cell_type": "markdown",
   "id": "29b88e31",
   "metadata": {},
   "source": [
    "### illegal move or not?"
   ]
  },
  {
   "cell_type": "code",
   "execution_count": 198,
   "id": "fcefc02b",
   "metadata": {},
   "outputs": [],
   "source": [
    "few_shot_perc = 0.2\n",
    "\n",
    "cutoff = int(few_shot_perc * illegal_sample_df.shape[0])\n",
    "illegal_sample_fs_df = illegal_sample_df[0:cutoff]\n",
    "illegal_sample_train_df = illegal_sample_df[cutoff:]"
   ]
  },
  {
   "cell_type": "code",
   "execution_count": 199,
   "id": "7c979b9e",
   "metadata": {},
   "outputs": [
    {
     "data": {
      "text/plain": [
       "((1000, 12), (800, 12), (200, 12))"
      ]
     },
     "execution_count": 199,
     "metadata": {},
     "output_type": "execute_result"
    }
   ],
   "source": [
    "illegal_sample_df.shape, illegal_sample_train_df.shape, illegal_sample_fs_df.shape\n"
   ]
  },
  {
   "cell_type": "code",
   "execution_count": 200,
   "id": "36732ac6",
   "metadata": {},
   "outputs": [
    {
     "data": {
      "text/plain": [
       "(0.345, 0.35, 0.325)"
      ]
     },
     "execution_count": 200,
     "metadata": {},
     "output_type": "execute_result"
    }
   ],
   "source": [
    "illegal_sample_df.is_double.mean(), illegal_sample_train_df.is_double.mean(), illegal_sample_fs_df.is_double.mean()"
   ]
  },
  {
   "cell_type": "code",
   "execution_count": 201,
   "id": "2861eb70",
   "metadata": {},
   "outputs": [],
   "source": [
    "eval_illegal_id = \"backgammon-illegal-move\"\n",
    "\n",
    "\n",
    "def get_json_data(df, is_few_shot=False):\n",
    "    json_data = []\n",
    "    for pos, row in df.iterrows():\n",
    "        chat_gpt_player = []\n",
    "        opponent_player = []\n",
    "        b = backgammon.Backgammon(position_id=row.position_id, match_id=row.match_id)\n",
    "\n",
    "        for pos, board_points in enumerate(reversed(b.position.board_points)):\n",
    "            if not board_points:\n",
    "                continue\n",
    "\n",
    "            if board_points > 0:\n",
    "                chat_gpt_player.append(\n",
    "                    f\"{board_points} checker{'s'[:board_points^1]} on the {BOARD_POSITIONS[pos]} point\"\n",
    "                )\n",
    "            else:\n",
    "                opponent_player.append(\n",
    "                    f\"{abs(board_points)} checker{'s'[:abs(board_points)^1]} on the {BOARD_POSITIONS[pos]} point\"\n",
    "                )\n",
    "\n",
    "        chatgpt_setup = \", \".join(chat_gpt_player)\n",
    "        opponent_setup = \", \".join(opponent_player)\n",
    "\n",
    "        board_eval = f\"The backgammon board's position id is {row.position_id} and the match id is {row.match_id}\"\n",
    "\n",
    "        moves_strings = []\n",
    "        if row.has_illegal_move:\n",
    "            moves = row.illegal_move\n",
    "            moves = [Move(*x) for x in moves]\n",
    "        else:\n",
    "            plays = [play for play in b.generate_plays()]\n",
    "            random_play = random.choice(plays)\n",
    "            moves = list(random_play.moves)\n",
    "\n",
    "        moves.sort(key=lambda x: x.source, reverse=True)\n",
    "        for roll in moves:\n",
    "            moves_strings.append(f\"{roll.source +1}/{roll.destination+1}\")\n",
    "\n",
    "        illegal_move_question = f\"Is {' '.join(moves_strings)} an illegal play?\"\n",
    "\n",
    "        question = f\"{GPT_PLAYER_NAME} is rolling a {row.dice[0]} and a {row.dice[1]}. {illegal_move_question}\"\n",
    "\n",
    "        true_false_only_reminder = (\n",
    "            \"Answer only with True or False and provide no other information.\"\n",
    "        )\n",
    "\n",
    "        user_content = (\n",
    "            f\"{board_eval}. {GPT_PLAYER_NAME} has {chatgpt_setup}. \"\n",
    "            f\"The opponent has {opponent_setup}. {question} {true_false_only_reminder}\"\n",
    "        )\n",
    "\n",
    "        if is_few_shot:\n",
    "            messages = [\n",
    "                {\"role\": \"system\", \"content\": user_content, \"name\": \"example_user\"},\n",
    "                {\n",
    "                    \"role\": \"system\",\n",
    "                    \"content\": str(not row.has_illegal_move),\n",
    "                    \"name\": \"example_assistant\",\n",
    "                },\n",
    "            ]\n",
    "        else:\n",
    "            messages = [\n",
    "                {\"role\": \"system\", \"content\": SYSTEM_CONTENT},\n",
    "                {\"role\": \"user\", \"content\": user_content},\n",
    "            ]\n",
    "\n",
    "        # TODO: check how to phrase this\n",
    "        # negate has_illegal_move - so we can ask if it is a legal play\n",
    "        if is_few_shot:\n",
    "            json_data.append({\"sample\": messages})\n",
    "        else:\n",
    "            json_data.append(\n",
    "                {\"input\": messages, \"ideal\": str(row.has_illegal_move)}\n",
    "            )\n",
    "\n",
    "    return json_data"
   ]
  },
  {
   "cell_type": "code",
   "execution_count": 202,
   "id": "11ad1ad3",
   "metadata": {},
   "outputs": [],
   "source": [
    "# full set\n",
    "json_data = get_json_data(illegal_sample_df)\n",
    "\n",
    "# write can_hit samples\n",
    "backgammon_folder = eval_data_path / \"backgammon\"\n",
    "backgammon_folder.mkdir(parents=True, exist_ok=True)\n",
    "backgammon_illegal_move = backgammon_folder / f\"{eval_illegal_id}.jsonl\"\n",
    "\n",
    "with open(backgammon_illegal_move, \"w\") as f:\n",
    "    for entry in json_data:\n",
    "        json.dump(entry, f)\n",
    "        f.write(\"\\n\")\n"
   ]
  },
  {
   "cell_type": "code",
   "execution_count": 203,
   "id": "085b2b3e",
   "metadata": {},
   "outputs": [],
   "source": [
    "# few_shot version\n",
    "eval_illegal_fs_few_shot_id = \"backgammon-illegal-fs-few_shot-move\"\n",
    "eval_illegal_fs_samples_id = \"backgammon-illegal-fs-samples-move\"\n",
    "\n",
    "# have a unique \"train set\"\n",
    "json_data = get_json_data(illegal_sample_train_df)\n",
    "\n",
    "# write can_hit samples\n",
    "backgammon_folder = eval_data_path / \"backgammon\"\n",
    "backgammon_folder.mkdir(parents=True, exist_ok=True)\n",
    "backgammon_illegal_move = backgammon_folder / f\"{eval_illegal_fs_samples_id}.jsonl\"\n",
    "\n",
    "with open(backgammon_illegal_move, \"w\") as f:\n",
    "    for entry in json_data:\n",
    "        json.dump(entry, f)\n",
    "        f.write(\"\\n\")\n",
    "\n",
    "\n",
    "json_fs_data = get_json_data(illegal_sample_fs_df, is_few_shot=True)\n",
    "\n",
    "# write can_hit samples\n",
    "backgammon_folder = eval_data_path / \"backgammon\"\n",
    "backgammon_folder.mkdir(parents=True, exist_ok=True)\n",
    "backgammon_illegal_move = backgammon_folder / f\"{eval_illegal_fs_few_shot_id}.jsonl\"\n",
    "\n",
    "with open(backgammon_illegal_move, \"w\") as f:\n",
    "    for entry in json_fs_data:\n",
    "        json.dump(entry, f)\n",
    "        f.write(\"\\n\")\n"
   ]
  },
  {
   "cell_type": "code",
   "execution_count": 204,
   "id": "9bfcf6ef",
   "metadata": {},
   "outputs": [],
   "source": [
    "registry_yaml = {}\n",
    "\n",
    "# can hit registry\n",
    "registry_id = f\"{eval_hit_id}.match.dev.v0\"\n",
    "registry_yaml[eval_hit_id] = {\"id\": registry_id, \"metrics\": [\"accuracy\"]}\n",
    "registry_yaml[registry_id] = {\n",
    "    \"class\": \"evals.elsuite.basic.match:Match\",\n",
    "    \"args\": {\"samples_jsonl\": f\"backgammon/{eval_hit_id}.jsonl\"},\n",
    "}\n",
    "\n",
    "# illegal move reg\n",
    "registry_illegal_id = f\"{eval_illegal_id}.match.dev.v0\"\n",
    "registry_yaml[eval_illegal_id] = {\"id\": registry_illegal_id, \"metrics\": [\"accuracy\"]}\n",
    "registry_yaml[registry_illegal_id] = {\n",
    "    \"class\": \"evals.elsuite.basic.match:Match\",\n",
    "    \"args\": {\"samples_jsonl\": f\"backgammon/{eval_illegal_id}.jsonl\"},\n",
    "}\n"
   ]
  },
  {
   "cell_type": "code",
   "execution_count": 205,
   "id": "f74744df",
   "metadata": {},
   "outputs": [],
   "source": [
    "# illegal move reg - few shot version\n",
    "#TODO: investigate this further - skipping the few shot example for now\n",
    "\n",
    "_ = \"\"\"\n",
    "registry_illegal_fs_id = f\"{eval_illegal_fs_samples_id}.match.dev.v0\"\n",
    "registry_yaml[eval_illegal_fs_samples_id] = {\n",
    "    \"id\": registry_illegal_fs_id,\n",
    "    \"metrics\": [\"accuracy\"],\n",
    "}\n",
    "registry_yaml[registry_illegal_fs_id] = {\n",
    "    \"class\": \"evals.elsuite.basic.match:Match\",\n",
    "    \"args\": {\n",
    "        \"few_shot_jsonl\": f\"backgammon/{eval_illegal_fs_few_shot_id}.jsonl\",\n",
    "        \"num_few_shot\": 4,\n",
    "        \"samples_jsonl\": f\"backgammon/{eval_illegal_fs_samples_id}.jsonl\",\n",
    "    },\n",
    "}\n",
    "\"\"\"\n"
   ]
  },
  {
   "cell_type": "code",
   "execution_count": 188,
   "id": "5b7e1460",
   "metadata": {},
   "outputs": [],
   "source": [
    "with open(eval_path / \"backgammon.yaml\", \"w\") as f:\n",
    "    yaml.dump(registry_yaml, f)"
   ]
  },
  {
   "cell_type": "code",
   "execution_count": 189,
   "id": "320f88be",
   "metadata": {},
   "outputs": [
    {
     "name": "stdout",
     "output_type": "stream",
     "text": [
      "[2023-04-03 18:06:59,353] [registry.py:156] Loading registry from /Users/bakebrain/src/evals/evals/registry/evals\n",
      "[2023-04-03 18:06:59,416] [registry.py:156] Loading registry from /Users/bakebrain/.evals/evals\n",
      "[2023-04-03 18:07:00,024] [oaieval.py:213] \u001b[1;35mRun started: 230403160700A2QAJOFN\u001b[0m\n",
      "[2023-04-03 18:07:00,026] [data.py:75] Fetching backgammon/backgammon-can-hit.jsonl\n",
      "[2023-04-03 18:07:00,029] [eval.py:32] Evaluating 300 samples\n",
      "[2023-04-03 18:07:00,040] [eval.py:152] Running in threaded mode with 10 threads!\n",
      " 20%|████████▍                                 | 60/300 [00:09<00:57,  4.20it/s][2023-04-03 18:07:10,178] [record.py:309] Logged 194 rows of events to logs/bg_can_hit_4.log: insert_time=18.001ms\n",
      " 36%|██████████████▉                          | 109/300 [00:20<01:04,  2.98it/s][2023-04-03 18:07:20,202] [record.py:309] Logged 147 rows of events to logs/bg_can_hit_4.log: insert_time=14.446ms\n",
      " 50%|████████████████████▎                    | 149/300 [00:29<00:42,  3.59it/s][2023-04-03 18:07:30,254] [record.py:309] Logged 117 rows of events to logs/bg_can_hit_4.log: insert_time=20.509ms\n",
      " 58%|███████████████████████▉                 | 175/300 [00:35<00:22,  5.62it/s][2023-04-03 18:07:35,834] [_common.py:105] Backing off openai_chat_completion_create_retrying(...) for 1.1s (openai.error.RateLimitError: That model is currently overloaded with other requests. You can retry your request, or contact us through our help center at help.openai.com if the error persists. (Please include the request ID 142a0928a9e1eb961f59db8875e5d45b in your message.))\n",
      " 66%|███████████████████████████              | 198/300 [00:40<00:20,  4.94it/s][2023-04-03 18:07:40,657] [record.py:309] Logged 147 rows of events to logs/bg_can_hit_4.log: insert_time=6.860ms\n",
      " 68%|███████████████████████████▉             | 204/300 [00:41<00:18,  5.06it/s][2023-04-03 18:07:41,856] [_common.py:105] Backing off openai_chat_completion_create_retrying(...) for 1.5s (openai.error.RateLimitError: That model is currently overloaded with other requests. You can retry your request, or contact us through our help center at help.openai.com if the error persists. (Please include the request ID 11abe5d5185b61dfe28992cb42d8194c in your message.))\n",
      " 72%|█████████████████████████████▍           | 215/300 [00:44<00:15,  5.58it/s][2023-04-03 18:07:44,221] [_common.py:105] Backing off openai_chat_completion_create_retrying(...) for 0.9s (openai.error.RateLimitError: That model is currently overloaded with other requests. You can retry your request, or contact us through our help center at help.openai.com if the error persists. (Please include the request ID 05e30d716f1c80cfa1169f62ee6d02a6 in your message.))\n",
      "[2023-04-03 18:07:44,829] [_common.py:105] Backing off openai_chat_completion_create_retrying(...) for 0.8s (openai.error.RateLimitError: That model is currently overloaded with other requests. You can retry your request, or contact us through our help center at help.openai.com if the error persists. (Please include the request ID 600818b25391e72416ac5f3d7162adb3 in your message.))\n",
      " 81%|█████████████████████████████████        | 242/300 [00:50<00:10,  5.27it/s][2023-04-03 18:07:50,724] [record.py:309] Logged 132 rows of events to logs/bg_can_hit_4.log: insert_time=9.649ms\n",
      " 99%|████████████████████████████████████████▌| 297/300 [01:00<00:00,  4.72it/s]^C\n",
      " 99%|████████████████████████████████████████▌| 297/300 [01:06<00:00,  4.48it/s]\n",
      "Traceback (most recent call last):\n",
      "  File \"/Users/bakebrain/miniconda3/envs/openai_eval/lib/python3.10/multiprocessing/pool.py\", line 856, in next\n",
      "    item = self._items.popleft()\n",
      "IndexError: pop from an empty deque\n",
      "\n",
      "During handling of the above exception, another exception occurred:\n",
      "\n",
      "Traceback (most recent call last):\n",
      "  File \"/Users/bakebrain/miniconda3/envs/openai_eval/bin/oaieval\", line 8, in <module>\n",
      "    sys.exit(main())\n",
      "  File \"/Users/bakebrain/src/evals/evals/cli/oaieval.py\", line 248, in main\n",
      "    run(args, model_resolver=ModelResolver())\n",
      "  File \"/Users/bakebrain/src/evals/evals/cli/oaieval.py\", line 225, in run\n",
      "    result = eval.run(recorder)\n",
      "  File \"/Users/bakebrain/src/evals/evals/elsuite/basic/match.py\", line 41, in run\n",
      "    self.eval_all_samples(recorder, samples)\n",
      "  File \"/Users/bakebrain/src/evals/evals/eval.py\", line 154, in eval_all_samples\n",
      "    idx_and_result = list(tqdm(iter, total=len(work_items), disable=not show_progress))\n",
      "  File \"/Users/bakebrain/miniconda3/envs/openai_eval/lib/python3.10/site-packages/tqdm/std.py\", line 1178, in __iter__\n",
      "    for obj in iterable:\n",
      "  File \"/Users/bakebrain/miniconda3/envs/openai_eval/lib/python3.10/multiprocessing/pool.py\", line 861, in next\n",
      "    self._cond.wait(timeout)\n",
      "  File \"/Users/bakebrain/miniconda3/envs/openai_eval/lib/python3.10/threading.py\", line 320, in wait\n",
      "    waiter.acquire()\n",
      "KeyboardInterrupt\n",
      "[2023-04-03 18:08:07,545] [registry.py:156] Loading registry from /Users/bakebrain/src/evals/evals/registry/evals\n",
      "[2023-04-03 18:08:07,608] [registry.py:156] Loading registry from /Users/bakebrain/.evals/evals\n",
      "[2023-04-03 18:08:08,185] [oaieval.py:213] \u001b[1;35mRun started: 2304031608082HFI45XQ\u001b[0m\n",
      "[2023-04-03 18:08:08,188] [data.py:75] Fetching backgammon/backgammon-illegal-move.jsonl\n",
      "[2023-04-03 18:08:08,195] [eval.py:32] Evaluating 300 samples\n",
      "[2023-04-03 18:08:08,211] [eval.py:152] Running in threaded mode with 10 threads!\n",
      " 21%|████████▉                                 | 64/300 [00:09<00:29,  7.99it/s][2023-04-03 18:08:18,675] [record.py:309] Logged 203 rows of events to logs/bg_illegal_move_4.log: insert_time=18.777ms\n",
      " 39%|███████████████▉                         | 117/300 [00:20<00:33,  5.39it/s][2023-04-03 18:08:28,754] [record.py:309] Logged 159 rows of events to logs/bg_illegal_move_4.log: insert_time=14.036ms\n",
      " 56%|██████████████████████▉                  | 168/300 [00:30<00:25,  5.12it/s][2023-04-03 18:08:38,793] [record.py:309] Logged 156 rows of events to logs/bg_illegal_move_4.log: insert_time=7.565ms\n",
      " 58%|███████████████████████▉                 | 175/300 [00:31<00:21,  5.89it/s][2023-04-03 18:08:40,122] [_common.py:105] Backing off openai_chat_completion_create_retrying(...) for 0.1s (openai.error.RateLimitError: That model is currently overloaded with other requests. You can retry your request, or contact us through our help center at help.openai.com if the error persists. (Please include the request ID 957bdbb527d3ad93f37b058d6a13420e in your message.))\n",
      " 71%|█████████████████████████████            | 213/300 [00:38<00:14,  6.05it/s][2023-04-03 18:08:47,204] [_common.py:105] Backing off openai_chat_completion_create_retrying(...) for 0.4s (openai.error.RateLimitError: That model is currently overloaded with other requests. You can retry your request, or contact us through our help center at help.openai.com if the error persists. (Please include the request ID 750fc298e29dc19d8b9a1069992e3490 in your message.))\n",
      " 73%|██████████████████████████████           | 220/300 [00:40<00:17,  4.56it/s][2023-04-03 18:08:48,905] [record.py:309] Logged 156 rows of events to logs/bg_illegal_move_4.log: insert_time=14.938ms\n",
      " 82%|█████████████████████████████████▌       | 246/300 [00:45<00:09,  5.48it/s][2023-04-03 18:08:54,016] [_common.py:105] Backing off openai_chat_completion_create_retrying(...) for 1.4s (openai.error.RateLimitError: That model is currently overloaded with other requests. You can retry your request, or contact us through our help center at help.openai.com if the error persists. (Please include the request ID 3d3730265d62140d12d93129c4cd6a3c in your message.))\n",
      " 89%|████████████████████████████████████▋    | 268/300 [00:50<00:07,  4.39it/s][2023-04-03 18:08:59,091] [record.py:309] Logged 147 rows of events to logs/bg_illegal_move_4.log: insert_time=14.481ms\n",
      " 99%|████████████████████████████████████████▍| 296/300 [00:56<00:00,  4.09it/s][2023-04-03 18:09:12,393] [_common.py:105] Backing off openai_chat_completion_create_retrying(...) for 0.6s (openai.error.RateLimitError: That model is currently overloaded with other requests. You can retry your request, or contact us through our help center at help.openai.com if the error persists. (Please include the request ID 19f25372ee28741c0c76acc9b772a740 in your message.))\n",
      "[2023-04-03 18:09:13,625] [_common.py:105] Backing off openai_chat_completion_create_retrying(...) for 0.0s (openai.error.RateLimitError: That model is currently overloaded with other requests. You can retry your request, or contact us through our help center at help.openai.com if the error persists. (Please include the request ID 70decae9f798825197c4a028a16460de in your message.))\n",
      "100%|████████████████████████████████████████▊| 299/300 [01:07<00:01,  1.57s/it][2023-04-03 18:09:21,613] [_common.py:105] Backing off openai_chat_completion_create_retrying(...) for 1.0s (openai.error.RateLimitError: That model is currently overloaded with other requests. You can retry your request, or contact us through our help center at help.openai.com if the error persists. (Please include the request ID dfbd7653e520381df3c1fdeb54b21be1 in your message.))\n",
      "100%|█████████████████████████████████████████| 300/300 [01:15<00:00,  3.98it/s]\n",
      "[2023-04-03 18:09:23,668] [record.py:320] Final report: {'accuracy': 0.5666666666666667}. Logged to logs/bg_illegal_move_4.log\n",
      "[2023-04-03 18:09:23,668] [oaieval.py:231] Final report:\n",
      "[2023-04-03 18:09:23,668] [oaieval.py:233] accuracy: 0.5666666666666667\n",
      "[2023-04-03 18:09:23,675] [record.py:309] Logged 79 rows of events to logs/bg_illegal_move_4.log: insert_time=6.334ms\n"
     ]
    }
   ],
   "source": [
    "#%%capture\n",
    "!oaieval gpt-4 backgammon-can-hit --record_path logs/bg_can_hit_4.log --no-cache --max_samples 300\n",
    "!oaieval gpt-4 backgammon-illegal-move --record_path logs/bg_illegal_move_4.log --max_samples 300\n",
    "#!oaieval gpt-4 backgammon-illegal-fs-samples-move --record_path logs/bg_illegal_move_4_fs.log --max_samples 300\n"
   ]
  },
  {
   "cell_type": "markdown",
   "id": "7ca38915",
   "metadata": {},
   "source": [
    "## eval\n"
   ]
  },
  {
   "attachments": {},
   "cell_type": "markdown",
   "id": "7a36041f",
   "metadata": {},
   "source": [
    "### can we hit?"
   ]
  },
  {
   "cell_type": "code",
   "execution_count": 149,
   "id": "7ca96858",
   "metadata": {},
   "outputs": [],
   "source": [
    "events = \"logs/bg_can_hit_4.log\"\n",
    "\n",
    "with open(events, \"r\") as f:\n",
    "    events_df = pd.read_json(f, lines=True)\n",
    "\n",
    "matches_df = events_df[events_df.type == \"match\"].reset_index(drop=True)\n",
    "matches_df = matches_df.join(pd.json_normalize(matches_df.data))\n",
    "\n",
    "expected = np.array([x == \"True\" for x in matches_df.expected.values])\n",
    "predicted = np.array([x == \"True\" for x in matches_df.sampled.values])"
   ]
  },
  {
   "cell_type": "code",
   "execution_count": 150,
   "id": "7d9932e3",
   "metadata": {},
   "outputs": [
    {
     "data": {
      "text/plain": [
       "True     164\n",
       "False    136\n",
       "Name: correct, dtype: int64"
      ]
     },
     "execution_count": 150,
     "metadata": {},
     "output_type": "execute_result"
    }
   ],
   "source": [
    "matches_df.correct.value_counts()\n"
   ]
  },
  {
   "cell_type": "code",
   "execution_count": 151,
   "id": "fb191e33",
   "metadata": {},
   "outputs": [
    {
     "data": {
      "text/plain": [
       "0.5466666666666666"
      ]
     },
     "execution_count": 151,
     "metadata": {},
     "output_type": "execute_result"
    }
   ],
   "source": [
    "(expected == predicted).mean()\n"
   ]
  },
  {
   "cell_type": "code",
   "execution_count": 153,
   "id": "7fcb261e",
   "metadata": {},
   "outputs": [
    {
     "data": {
      "text/html": [
       "<div>\n",
       "<style scoped>\n",
       "    .dataframe tbody tr th:only-of-type {\n",
       "        vertical-align: middle;\n",
       "    }\n",
       "\n",
       "    .dataframe tbody tr th {\n",
       "        vertical-align: top;\n",
       "    }\n",
       "\n",
       "    .dataframe thead th {\n",
       "        text-align: right;\n",
       "    }\n",
       "</style>\n",
       "<table border=\"1\" class=\"dataframe\">\n",
       "  <thead>\n",
       "    <tr style=\"text-align: right;\">\n",
       "      <th>pred</th>\n",
       "      <th>False</th>\n",
       "      <th>True</th>\n",
       "      <th>All</th>\n",
       "    </tr>\n",
       "    <tr>\n",
       "      <th>actual</th>\n",
       "      <th></th>\n",
       "      <th></th>\n",
       "      <th></th>\n",
       "    </tr>\n",
       "  </thead>\n",
       "  <tbody>\n",
       "    <tr>\n",
       "      <th>False</th>\n",
       "      <td>47</td>\n",
       "      <td>107</td>\n",
       "      <td>154</td>\n",
       "    </tr>\n",
       "    <tr>\n",
       "      <th>True</th>\n",
       "      <td>29</td>\n",
       "      <td>117</td>\n",
       "      <td>146</td>\n",
       "    </tr>\n",
       "    <tr>\n",
       "      <th>All</th>\n",
       "      <td>76</td>\n",
       "      <td>224</td>\n",
       "      <td>300</td>\n",
       "    </tr>\n",
       "  </tbody>\n",
       "</table>\n",
       "</div>"
      ],
      "text/plain": [
       "pred    False  True  All\n",
       "actual                  \n",
       "False      47   107  154\n",
       "True       29   117  146\n",
       "All        76   224  300"
      ]
     },
     "execution_count": 153,
     "metadata": {},
     "output_type": "execute_result"
    }
   ],
   "source": [
    "pd.crosstab(expected, predicted, rownames=[\"actual\"], colnames=[\"pred\"], margins=True)"
   ]
  },
  {
   "attachments": {},
   "cell_type": "markdown",
   "id": "a2b37dae",
   "metadata": {},
   "source": [
    "### is it an illegal play?"
   ]
  },
  {
   "cell_type": "code",
   "execution_count": 154,
   "id": "a4999131",
   "metadata": {},
   "outputs": [],
   "source": [
    "events = \"logs/bg_illegal_move_4.log\"\n",
    "\n",
    "with open(events, \"r\") as f:\n",
    "    events_df = pd.read_json(f, lines=True)\n",
    "\n",
    "matches_df = events_df[events_df.type == \"match\"].reset_index(drop=True)\n",
    "matches_df = matches_df.join(pd.json_normalize(matches_df.data))\n",
    "\n",
    "expected = np.array([x == \"True\" for x in matches_df.expected.values])\n",
    "predicted = np.array([x == \"True\" for x in matches_df.sampled.values])"
   ]
  },
  {
   "cell_type": "code",
   "execution_count": 155,
   "id": "f215c0a6",
   "metadata": {},
   "outputs": [
    {
     "data": {
      "text/plain": [
       "True     166\n",
       "False    135\n",
       "Name: correct, dtype: int64"
      ]
     },
     "execution_count": 155,
     "metadata": {},
     "output_type": "execute_result"
    }
   ],
   "source": [
    "matches_df.correct.value_counts()\n"
   ]
  },
  {
   "cell_type": "code",
   "execution_count": 156,
   "id": "a240866b",
   "metadata": {},
   "outputs": [
    {
     "data": {
      "text/plain": [
       "0.5514950166112956"
      ]
     },
     "execution_count": 156,
     "metadata": {},
     "output_type": "execute_result"
    }
   ],
   "source": [
    "(expected == predicted).mean()\n"
   ]
  },
  {
   "cell_type": "code",
   "execution_count": 157,
   "id": "078c0632",
   "metadata": {},
   "outputs": [
    {
     "data": {
      "text/html": [
       "<div>\n",
       "<style scoped>\n",
       "    .dataframe tbody tr th:only-of-type {\n",
       "        vertical-align: middle;\n",
       "    }\n",
       "\n",
       "    .dataframe tbody tr th {\n",
       "        vertical-align: top;\n",
       "    }\n",
       "\n",
       "    .dataframe thead th {\n",
       "        text-align: right;\n",
       "    }\n",
       "</style>\n",
       "<table border=\"1\" class=\"dataframe\">\n",
       "  <thead>\n",
       "    <tr style=\"text-align: right;\">\n",
       "      <th>pred</th>\n",
       "      <th>False</th>\n",
       "      <th>True</th>\n",
       "      <th>All</th>\n",
       "    </tr>\n",
       "    <tr>\n",
       "      <th>actual</th>\n",
       "      <th></th>\n",
       "      <th></th>\n",
       "      <th></th>\n",
       "    </tr>\n",
       "  </thead>\n",
       "  <tbody>\n",
       "    <tr>\n",
       "      <th>False</th>\n",
       "      <td>140</td>\n",
       "      <td>29</td>\n",
       "      <td>169</td>\n",
       "    </tr>\n",
       "    <tr>\n",
       "      <th>True</th>\n",
       "      <td>106</td>\n",
       "      <td>26</td>\n",
       "      <td>132</td>\n",
       "    </tr>\n",
       "    <tr>\n",
       "      <th>All</th>\n",
       "      <td>246</td>\n",
       "      <td>55</td>\n",
       "      <td>301</td>\n",
       "    </tr>\n",
       "  </tbody>\n",
       "</table>\n",
       "</div>"
      ],
      "text/plain": [
       "pred    False  True  All\n",
       "actual                  \n",
       "False     140    29  169\n",
       "True      106    26  132\n",
       "All       246    55  301"
      ]
     },
     "execution_count": 157,
     "metadata": {},
     "output_type": "execute_result"
    }
   ],
   "source": [
    "pd.crosstab(expected, predicted, rownames=[\"actual\"], colnames=[\"pred\"], margins=True)"
   ]
  },
  {
   "cell_type": "code",
   "execution_count": null,
   "id": "017abab4",
   "metadata": {},
   "outputs": [],
   "source": []
  }
 ],
 "metadata": {
  "kernelspec": {
   "display_name": "Python 3 (ipykernel)",
   "language": "python",
   "name": "python3"
  },
  "language_info": {
   "codemirror_mode": {
    "name": "ipython",
    "version": 3
   },
   "file_extension": ".py",
   "mimetype": "text/x-python",
   "name": "python",
   "nbconvert_exporter": "python",
   "pygments_lexer": "ipython3",
   "version": "3.10.10"
  }
 },
 "nbformat": 4,
 "nbformat_minor": 5
}
